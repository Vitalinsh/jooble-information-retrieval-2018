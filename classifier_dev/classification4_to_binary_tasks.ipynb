{
 "cells": [
  {
   "cell_type": "code",
   "execution_count": 0,
   "metadata": {
    "colab": {},
    "colab_type": "code",
    "id": "WKiM6bqhdMNC"
   },
   "outputs": [],
   "source": [
    "!pip install gensim"
   ]
  },
  {
   "cell_type": "code",
   "execution_count": 0,
   "metadata": {
    "colab": {},
    "colab_type": "code",
    "id": "wT4lwxZDcnvV"
   },
   "outputs": [],
   "source": [
    "import os\n",
    "import re\n",
    "\n",
    "import pandas as pd\n",
    "import numpy as np\n",
    "from keras.models import Sequential\n",
    "from keras.layers import LSTM, Dense, Embedding, Bidirectional, Dropout\n",
    "from keras.layers import SpatialDropout1D, Conv1D, MaxPooling1D\n",
    "from gensim.models import Word2Vec\n",
    "from keras.utils import np_utils\n",
    "from keras.preprocessing import sequence\n",
    "from sklearn.metrics.pairwise import cosine_similarity\n",
    "from sklearn.model_selection import train_test_split\n",
    "from keras.regularizers import l2\n",
    "import seaborn as sns\n",
    "from gensim.models import KeyedVectors\n",
    "from sklearn.feature_extraction.text import TfidfVectorizer\n",
    "\n",
    "from sklearn.cluster import KMeans\n",
    "from sklearn.metrics import adjusted_rand_score\n",
    "from sklearn.decomposition import PCA\n",
    "from sklearn.pipeline import Pipeline\n",
    "import matplotlib.pyplot as plt\n",
    "from matplotlib import colors\n",
    "\n",
    "from sklearn.naive_bayes import GaussianNB\n",
    "from sklearn.neural_network import MLPClassifier\n",
    "from sklearn.preprocessing import StandardScaler\n",
    "from sklearn.neighbors import KNeighborsClassifier\n",
    "from sklearn.ensemble import RandomForestRegressor, RandomForestClassifier\n",
    "from sklearn.ensemble import GradientBoostingClassifier\n",
    "from sklearn import metrics\n",
    "from sklearn.linear_model import LogisticRegression\n",
    "from sklearn.svm import SVC"
   ]
  },
  {
   "cell_type": "code",
   "execution_count": null,
   "metadata": {
    "colab": {
     "base_uri": "https://localhost:8080/",
     "height": 121
    },
    "colab_type": "code",
    "executionInfo": {
     "elapsed": 37643,
     "status": "ok",
     "timestamp": 1544216661083,
     "user": {
      "displayName": "Виктор Оверко",
      "photoUrl": "https://lh6.googleusercontent.com/-_I9YbAF9z5o/AAAAAAAAAAI/AAAAAAAAABA/NUb59sonytE/s64/photo.jpg",
      "userId": "04713510988786792129"
     },
     "user_tz": -120
    },
    "id": "zILl-394dJvO",
    "outputId": "a49ef382-b17f-4c0c-f908-cf9ff3c570f4"
   },
   "outputs": [],
   "source": [
    "from google.colab import drive\n",
    "drive.mount('/content/gdrive')"
   ]
  },
  {
   "cell_type": "code",
   "execution_count": 0,
   "metadata": {
    "colab": {},
    "colab_type": "code",
    "id": "AHhSXgVvcnvb"
   },
   "outputs": [],
   "source": [
    "w2v_path = os.path.join(\"/content/gdrive/My Drive/\", \"Colab Notebooks/ruwikiruscorpora-nobigrams_upos_skipgram_300_5_2018.vec.gz\")\n",
    "hh_data_path = os.path.join(\"/content/gdrive/My Drive/\", \"Colab Notebooks/hh_dataset.csv\")"
   ]
  },
  {
   "cell_type": "code",
   "execution_count": 0,
   "metadata": {
    "colab": {},
    "colab_type": "code",
    "id": "sUQx_qMEcnve"
   },
   "outputs": [],
   "source": [
    "dataset_hh = pd.read_csv(hh_data_path, sep=\"\\t\")\n",
    "dataset_hh = dataset_hh.loc[dataset_hh[\"lang_text\"] != \"english\"]\n",
    "#dataset_hh.drop(dataset_hh.index[dataset_hh[\"lang_text\"] == \"english\"], inplace=True)\n",
    "dataset_hh.reset_index(drop=True, inplace=True)"
   ]
  },
  {
   "cell_type": "code",
   "execution_count": 127,
   "metadata": {
    "colab": {
     "base_uri": "https://localhost:8080/",
     "height": 546
    },
    "colab_type": "code",
    "executionInfo": {
     "elapsed": 826,
     "status": "ok",
     "timestamp": 1544220161671,
     "user": {
      "displayName": "Виктор Оверко",
      "photoUrl": "https://lh6.googleusercontent.com/-_I9YbAF9z5o/AAAAAAAAAAI/AAAAAAAAABA/NUb59sonytE/s64/photo.jpg",
      "userId": "04713510988786792129"
     },
     "user_tz": -120
    },
    "id": "MRIxkoDzcnvm",
    "outputId": "ecb8f6e9-36a9-4aab-f955-5a6bfe9c6d50"
   },
   "outputs": [
    {
     "data": {
      "text/html": [
       "<div>\n",
       "<style scoped>\n",
       "    .dataframe tbody tr th:only-of-type {\n",
       "        vertical-align: middle;\n",
       "    }\n",
       "\n",
       "    .dataframe tbody tr th {\n",
       "        vertical-align: top;\n",
       "    }\n",
       "\n",
       "    .dataframe thead th {\n",
       "        text-align: right;\n",
       "    }\n",
       "</style>\n",
       "<table border=\"1\" class=\"dataframe\">\n",
       "  <thead>\n",
       "    <tr style=\"text-align: right;\">\n",
       "      <th></th>\n",
       "      <th>id</th>\n",
       "      <th>lang_title</th>\n",
       "      <th>requirement</th>\n",
       "      <th>requirement_lemmas</th>\n",
       "      <th>requirement_lemmas_tags</th>\n",
       "      <th>requirement_norm</th>\n",
       "      <th>requirement_tokens</th>\n",
       "      <th>responsibility</th>\n",
       "      <th>responsibility_lemmas</th>\n",
       "      <th>responsibility_lemmas_tags</th>\n",
       "      <th>...</th>\n",
       "      <th>title_tokens</th>\n",
       "      <th>url</th>\n",
       "      <th>lang_text</th>\n",
       "      <th>profarea_names</th>\n",
       "      <th>specializations</th>\n",
       "      <th>text</th>\n",
       "      <th>text_lemmas</th>\n",
       "      <th>text_lemmas_tags</th>\n",
       "      <th>text_normalized</th>\n",
       "      <th>text_tokens</th>\n",
       "    </tr>\n",
       "  </thead>\n",
       "  <tbody>\n",
       "    <tr>\n",
       "      <th>0</th>\n",
       "      <td>29103667</td>\n",
       "      <td>russian</td>\n",
       "      <td>Высшее (желательно техническое) образование. П...</td>\n",
       "      <td>высший желательный технический образование lot...</td>\n",
       "      <td>высший_ADJ желательный_ADJ технический_ADJ обр...</td>\n",
       "      <td>высш желательн техническ образован lotus хорош...</td>\n",
       "      <td>высшее желательно техническое образование lotu...</td>\n",
       "      <td>Ежедневное планирование работы завода (молочно...</td>\n",
       "      <td>ежедневный планирование работа завод молочный ...</td>\n",
       "      <td>ежедневный_ADJ планирование_NOUN работа_NOUN з...</td>\n",
       "      <td>...</td>\n",
       "      <td>специаидать_NOUN планирование_NOUN производств...</td>\n",
       "      <td>https://api.hh.ru/vacancies/29103667?host=hh.ua</td>\n",
       "      <td>russian</td>\n",
       "      <td>['Производство', 'Закупки']</td>\n",
       "      <td>['Пищевая промышленность', 'Управление закупка...</td>\n",
       "      <td>&lt;p&gt;&lt;strong&gt;Международная компания – крупнейший...</td>\n",
       "      <td>международный компания крупнейший производител...</td>\n",
       "      <td>международный_ADJ компания_NOUN крупнейший_ADJ...</td>\n",
       "      <td>международн компан крупн производител свеж мол...</td>\n",
       "      <td>международный_ADJ компания_NOUN крупнейший_ADJ...</td>\n",
       "    </tr>\n",
       "    <tr>\n",
       "      <th>1</th>\n",
       "      <td>29103666</td>\n",
       "      <td>russian</td>\n",
       "      <td>Умение работать в коллективе. Образование не н...</td>\n",
       "      <td>умение работать коллектив образование ниже тех...</td>\n",
       "      <td>умение_NOUN работать_VERB коллектив_NOUN образ...</td>\n",
       "      <td>умен работа коллектив образован ниж техническ ...</td>\n",
       "      <td>умение работать коллективе образование ниже те...</td>\n",
       "      <td>Техническая подготовка выполнения сварочных ра...</td>\n",
       "      <td>технический подготовка выполнение сварочный ра...</td>\n",
       "      <td>технический_ADJ подготовка_NOUN выполнение_NOU...</td>\n",
       "      <td>...</td>\n",
       "      <td>главный_ADJ сварщик_NOUN</td>\n",
       "      <td>https://api.hh.ru/vacancies/29103666?host=hh.ua</td>\n",
       "      <td>russian</td>\n",
       "      <td>['Рабочий персонал']</td>\n",
       "      <td>['Сварщик']</td>\n",
       "      <td>&lt;strong&gt;Обязанности:&lt;/strong&gt; &lt;ul&gt; &lt;li&gt;&lt;em&gt;Тех...</td>\n",
       "      <td>обязанность технический подготовка выполнение ...</td>\n",
       "      <td>обязанность_NOUN технический_ADJ подготовка_NO...</td>\n",
       "      <td>обязан техническ подготовк выполнен сварочн ра...</td>\n",
       "      <td>обязанность_NOUN технический_ADJ подготовка_NO...</td>\n",
       "    </tr>\n",
       "    <tr>\n",
       "      <th>2</th>\n",
       "      <td>29103664</td>\n",
       "      <td>russian</td>\n",
       "      <td>Профильное высшее образование (Художественное/...</td>\n",
       "      <td>профильный высший образование креативность нес...</td>\n",
       "      <td>профильный_ADJ высший_ADJ образование_NOUN кре...</td>\n",
       "      <td>профильн высш образован креативн нестандартн м...</td>\n",
       "      <td>профильное высшее образование креативность нес...</td>\n",
       "      <td>Дизайн и верстка еженедельного акционного букл...</td>\n",
       "      <td>дизайн верстка еженедельный акциоть буклет раз...</td>\n",
       "      <td>дизайн_NOUN верстка_NOUN еженедельный_ADJ акци...</td>\n",
       "      <td>...</td>\n",
       "      <td>дизайнер_NOUN</td>\n",
       "      <td>https://api.hh.ru/vacancies/29103664?host=hh.ua</td>\n",
       "      <td>russian</td>\n",
       "      <td>['Искусство, развлечения, масс-медиа', 'Маркет...</td>\n",
       "      <td>['Дизайн, графика, живопись', 'Дизайнер']</td>\n",
       "      <td>&lt;p&gt;&lt;strong&gt;Сеть гипермаркетов ProStore приглаш...</td>\n",
       "      <td>сеть гипермаркет prostore приглашать постоянны...</td>\n",
       "      <td>сеть_NOUN гипермаркет_NOUN prostore_X приглаша...</td>\n",
       "      <td>сет гипермаркет prostor приглаша постоя работ ...</td>\n",
       "      <td>сеть_NOUN гипермаркет_NOUN prostore_X приглаша...</td>\n",
       "    </tr>\n",
       "    <tr>\n",
       "      <th>3</th>\n",
       "      <td>29103661</td>\n",
       "      <td>russian</td>\n",
       "      <td>1. Высшее образование ( в приоритете: менеджме...</td>\n",
       "      <td>высший образование приоритет менеджмент маркет...</td>\n",
       "      <td>высший_ADJ образование_NOUN приоритет_VERB мен...</td>\n",
       "      <td>высш образован приоритет менеджмент маркетинг ...</td>\n",
       "      <td>высшее образование приоритете менеджмент марке...</td>\n",
       "      <td>Наша студия помогает компаниям повышать продаж...</td>\n",
       "      <td>наш студия помогать компания повышать продажа ...</td>\n",
       "      <td>наш_DET студия_NOUN помогать_VERB компания_NOU...</td>\n",
       "      <td>...</td>\n",
       "      <td>руководитель_NOUN отдел_NOUN продажа_NOUN</td>\n",
       "      <td>https://api.hh.ru/vacancies/29103661?host=hh.ua</td>\n",
       "      <td>russian</td>\n",
       "      <td>['Продажи', 'Продажи', 'Высший менеджмент']</td>\n",
       "      <td>['Услуги для бизнеса', 'Управление продажами',...</td>\n",
       "      <td>&lt;p&gt;Наша студия помогает компаниям повышать про...</td>\n",
       "      <td>наш студия помогать компания повышать продажа ...</td>\n",
       "      <td>наш_DET студия_NOUN помогать_VERB компания_NOU...</td>\n",
       "      <td>наш студ помога компан повыша продаж помощ про...</td>\n",
       "      <td>наш_DET студия_NOUN помогать_VERB компания_NOU...</td>\n",
       "    </tr>\n",
       "    <tr>\n",
       "      <th>4</th>\n",
       "      <td>29103660</td>\n",
       "      <td>russian</td>\n",
       "      <td>Требования: Опыт работы по специальности обяза...</td>\n",
       "      <td>требование опыт работа специальность обязатель...</td>\n",
       "      <td>требование_NOUN опыт_NOUN работа_NOUN специаль...</td>\n",
       "      <td>требован оп работ специальн обязател желательн...</td>\n",
       "      <td>требования опыт работы специальности обязателе...</td>\n",
       "      <td>Обязанности: Заточка и доводка режущего инстру...</td>\n",
       "      <td>обязанность заточка доводка резать инструмент ...</td>\n",
       "      <td>обязанность_NOUN заточка_NOUN доводка_NOUN рез...</td>\n",
       "      <td>...</td>\n",
       "      <td>заточник_NOUN</td>\n",
       "      <td>https://api.hh.ru/vacancies/29103660?host=hh.ua</td>\n",
       "      <td>russian</td>\n",
       "      <td>['Рабочий персонал', 'Рабочий персонал', 'Рабо...</td>\n",
       "      <td>['Другое', 'Шлифовщик', 'Токарь, Фрезеровщик',...</td>\n",
       "      <td>&lt;p&gt;Обязанности: Заточка и доводка режущего инс...</td>\n",
       "      <td>обязанность заточка доводка резать инструмент ...</td>\n",
       "      <td>обязанность_NOUN заточка_NOUN доводка_NOUN рез...</td>\n",
       "      <td>обязан заточк доводк режущ инструмент дерев ме...</td>\n",
       "      <td>обязанность_NOUN заточка_NOUN доводка_NOUN рез...</td>\n",
       "    </tr>\n",
       "  </tbody>\n",
       "</table>\n",
       "<p>5 rows × 26 columns</p>\n",
       "</div>"
      ],
      "text/plain": [
       "         id lang_title                                        requirement  \\\n",
       "0  29103667    russian  Высшее (желательно техническое) образование. П...   \n",
       "1  29103666    russian  Умение работать в коллективе. Образование не н...   \n",
       "2  29103664    russian  Профильное высшее образование (Художественное/...   \n",
       "3  29103661    russian  1. Высшее образование ( в приоритете: менеджме...   \n",
       "4  29103660    russian  Требования: Опыт работы по специальности обяза...   \n",
       "\n",
       "                                  requirement_lemmas  \\\n",
       "0  высший желательный технический образование lot...   \n",
       "1  умение работать коллектив образование ниже тех...   \n",
       "2  профильный высший образование креативность нес...   \n",
       "3  высший образование приоритет менеджмент маркет...   \n",
       "4  требование опыт работа специальность обязатель...   \n",
       "\n",
       "                             requirement_lemmas_tags  \\\n",
       "0  высший_ADJ желательный_ADJ технический_ADJ обр...   \n",
       "1  умение_NOUN работать_VERB коллектив_NOUN образ...   \n",
       "2  профильный_ADJ высший_ADJ образование_NOUN кре...   \n",
       "3  высший_ADJ образование_NOUN приоритет_VERB мен...   \n",
       "4  требование_NOUN опыт_NOUN работа_NOUN специаль...   \n",
       "\n",
       "                                    requirement_norm  \\\n",
       "0  высш желательн техническ образован lotus хорош...   \n",
       "1  умен работа коллектив образован ниж техническ ...   \n",
       "2  профильн высш образован креативн нестандартн м...   \n",
       "3  высш образован приоритет менеджмент маркетинг ...   \n",
       "4  требован оп работ специальн обязател желательн...   \n",
       "\n",
       "                                  requirement_tokens  \\\n",
       "0  высшее желательно техническое образование lotu...   \n",
       "1  умение работать коллективе образование ниже те...   \n",
       "2  профильное высшее образование креативность нес...   \n",
       "3  высшее образование приоритете менеджмент марке...   \n",
       "4  требования опыт работы специальности обязателе...   \n",
       "\n",
       "                                      responsibility  \\\n",
       "0  Ежедневное планирование работы завода (молочно...   \n",
       "1  Техническая подготовка выполнения сварочных ра...   \n",
       "2  Дизайн и верстка еженедельного акционного букл...   \n",
       "3  Наша студия помогает компаниям повышать продаж...   \n",
       "4  Обязанности: Заточка и доводка режущего инстру...   \n",
       "\n",
       "                               responsibility_lemmas  \\\n",
       "0  ежедневный планирование работа завод молочный ...   \n",
       "1  технический подготовка выполнение сварочный ра...   \n",
       "2  дизайн верстка еженедельный акциоть буклет раз...   \n",
       "3  наш студия помогать компания повышать продажа ...   \n",
       "4  обязанность заточка доводка резать инструмент ...   \n",
       "\n",
       "                          responsibility_lemmas_tags  \\\n",
       "0  ежедневный_ADJ планирование_NOUN работа_NOUN з...   \n",
       "1  технический_ADJ подготовка_NOUN выполнение_NOU...   \n",
       "2  дизайн_NOUN верстка_NOUN еженедельный_ADJ акци...   \n",
       "3  наш_DET студия_NOUN помогать_VERB компания_NOU...   \n",
       "4  обязанность_NOUN заточка_NOUN доводка_NOUN рез...   \n",
       "\n",
       "                         ...                          \\\n",
       "0                        ...                           \n",
       "1                        ...                           \n",
       "2                        ...                           \n",
       "3                        ...                           \n",
       "4                        ...                           \n",
       "\n",
       "                                        title_tokens  \\\n",
       "0  специаидать_NOUN планирование_NOUN производств...   \n",
       "1                           главный_ADJ сварщик_NOUN   \n",
       "2                                      дизайнер_NOUN   \n",
       "3          руководитель_NOUN отдел_NOUN продажа_NOUN   \n",
       "4                                      заточник_NOUN   \n",
       "\n",
       "                                               url lang_text  \\\n",
       "0  https://api.hh.ru/vacancies/29103667?host=hh.ua   russian   \n",
       "1  https://api.hh.ru/vacancies/29103666?host=hh.ua   russian   \n",
       "2  https://api.hh.ru/vacancies/29103664?host=hh.ua   russian   \n",
       "3  https://api.hh.ru/vacancies/29103661?host=hh.ua   russian   \n",
       "4  https://api.hh.ru/vacancies/29103660?host=hh.ua   russian   \n",
       "\n",
       "                                      profarea_names  \\\n",
       "0                        ['Производство', 'Закупки']   \n",
       "1                               ['Рабочий персонал']   \n",
       "2  ['Искусство, развлечения, масс-медиа', 'Маркет...   \n",
       "3        ['Продажи', 'Продажи', 'Высший менеджмент']   \n",
       "4  ['Рабочий персонал', 'Рабочий персонал', 'Рабо...   \n",
       "\n",
       "                                     specializations  \\\n",
       "0  ['Пищевая промышленность', 'Управление закупка...   \n",
       "1                                        ['Сварщик']   \n",
       "2          ['Дизайн, графика, живопись', 'Дизайнер']   \n",
       "3  ['Услуги для бизнеса', 'Управление продажами',...   \n",
       "4  ['Другое', 'Шлифовщик', 'Токарь, Фрезеровщик',...   \n",
       "\n",
       "                                                text  \\\n",
       "0  <p><strong>Международная компания – крупнейший...   \n",
       "1  <strong>Обязанности:</strong> <ul> <li><em>Тех...   \n",
       "2  <p><strong>Сеть гипермаркетов ProStore приглаш...   \n",
       "3  <p>Наша студия помогает компаниям повышать про...   \n",
       "4  <p>Обязанности: Заточка и доводка режущего инс...   \n",
       "\n",
       "                                         text_lemmas  \\\n",
       "0  международный компания крупнейший производител...   \n",
       "1  обязанность технический подготовка выполнение ...   \n",
       "2  сеть гипермаркет prostore приглашать постоянны...   \n",
       "3  наш студия помогать компания повышать продажа ...   \n",
       "4  обязанность заточка доводка резать инструмент ...   \n",
       "\n",
       "                                    text_lemmas_tags  \\\n",
       "0  международный_ADJ компания_NOUN крупнейший_ADJ...   \n",
       "1  обязанность_NOUN технический_ADJ подготовка_NO...   \n",
       "2  сеть_NOUN гипермаркет_NOUN prostore_X приглаша...   \n",
       "3  наш_DET студия_NOUN помогать_VERB компания_NOU...   \n",
       "4  обязанность_NOUN заточка_NOUN доводка_NOUN рез...   \n",
       "\n",
       "                                     text_normalized  \\\n",
       "0  международн компан крупн производител свеж мол...   \n",
       "1  обязан техническ подготовк выполнен сварочн ра...   \n",
       "2  сет гипермаркет prostor приглаша постоя работ ...   \n",
       "3  наш студ помога компан повыша продаж помощ про...   \n",
       "4  обязан заточк доводк режущ инструмент дерев ме...   \n",
       "\n",
       "                                         text_tokens  \n",
       "0  международный_ADJ компания_NOUN крупнейший_ADJ...  \n",
       "1  обязанность_NOUN технический_ADJ подготовка_NO...  \n",
       "2  сеть_NOUN гипермаркет_NOUN prostore_X приглаша...  \n",
       "3  наш_DET студия_NOUN помогать_VERB компания_NOU...  \n",
       "4  обязанность_NOUN заточка_NOUN доводка_NOUN рез...  \n",
       "\n",
       "[5 rows x 26 columns]"
      ]
     },
     "execution_count": 127,
     "metadata": {
      "tags": []
     },
     "output_type": "execute_result"
    }
   ],
   "source": [
    "dataset_hh.head()"
   ]
  },
  {
   "cell_type": "code",
   "execution_count": 128,
   "metadata": {
    "colab": {
     "base_uri": "https://localhost:8080/",
     "height": 538
    },
    "colab_type": "code",
    "executionInfo": {
     "elapsed": 577,
     "status": "ok",
     "timestamp": 1544220162536,
     "user": {
      "displayName": "Виктор Оверко",
      "photoUrl": "https://lh6.googleusercontent.com/-_I9YbAF9z5o/AAAAAAAAAAI/AAAAAAAAABA/NUb59sonytE/s64/photo.jpg",
      "userId": "04713510988786792129"
     },
     "user_tz": -120
    },
    "id": "6VcxenEOcnvu",
    "outputId": "885fa97c-8f5d-4888-fa40-13cd2ffa1dbc"
   },
   "outputs": [
    {
     "name": "stdout",
     "output_type": "stream",
     "text": [
      "<class 'pandas.core.frame.DataFrame'>\n",
      "RangeIndex: 3588 entries, 0 to 3587\n",
      "Data columns (total 26 columns):\n",
      "id                            3588 non-null int64\n",
      "lang_title                    3588 non-null object\n",
      "requirement                   3472 non-null object\n",
      "requirement_lemmas            3472 non-null object\n",
      "requirement_lemmas_tags       3472 non-null object\n",
      "requirement_norm              3472 non-null object\n",
      "requirement_tokens            3472 non-null object\n",
      "responsibility                3409 non-null object\n",
      "responsibility_lemmas         3409 non-null object\n",
      "responsibility_lemmas_tags    3409 non-null object\n",
      "responsibility_norm           3409 non-null object\n",
      "responsibility_tokens         3409 non-null object\n",
      "title                         3588 non-null object\n",
      "title_lemmas                  3270 non-null object\n",
      "title_lemmas_tags             3270 non-null object\n",
      "title_normalized              3270 non-null object\n",
      "title_tokens                  3270 non-null object\n",
      "url                           3588 non-null object\n",
      "lang_text                     3588 non-null object\n",
      "profarea_names                3588 non-null object\n",
      "specializations               3588 non-null object\n",
      "text                          3588 non-null object\n",
      "text_lemmas                   3588 non-null object\n",
      "text_lemmas_tags              3588 non-null object\n",
      "text_normalized               3588 non-null object\n",
      "text_tokens                   3588 non-null object\n",
      "dtypes: int64(1), object(25)\n",
      "memory usage: 728.9+ KB\n"
     ]
    }
   ],
   "source": [
    "dataset_hh.info()"
   ]
  },
  {
   "cell_type": "markdown",
   "metadata": {
    "colab_type": "text",
    "id": "OvTcYfW9cnv3"
   },
   "source": [
    "### Prapare data to rnn"
   ]
  },
  {
   "cell_type": "code",
   "execution_count": 0,
   "metadata": {
    "colab": {},
    "colab_type": "code",
    "id": "pcgnmOXwcnv4"
   },
   "outputs": [],
   "source": [
    "vectorizer = KeyedVectors.load_word2vec_format(w2v_path, binary=False)\n"
   ]
  },
  {
   "cell_type": "code",
   "execution_count": 129,
   "metadata": {
    "colab": {
     "base_uri": "https://localhost:8080/",
     "height": 70
    },
    "colab_type": "code",
    "executionInfo": {
     "elapsed": 833,
     "status": "ok",
     "timestamp": 1544220169439,
     "user": {
      "displayName": "Виктор Оверко",
      "photoUrl": "https://lh6.googleusercontent.com/-_I9YbAF9z5o/AAAAAAAAAAI/AAAAAAAAABA/NUb59sonytE/s64/photo.jpg",
      "userId": "04713510988786792129"
     },
     "user_tz": -120
    },
    "id": "M_cl2LhRcnv8",
    "outputId": "d369f62d-53f6-4f8f-b5a9-7a028ad3e581"
   },
   "outputs": [
    {
     "name": "stdout",
     "output_type": "stream",
     "text": [
      "Labels number: 28\n",
      "Labels: ['консультирование', 'безопасность', 'закупки', 'бухгалтерия, управленческий учет, финансы предприятия', 'туризм, гостиницы, рестораны', 'продажи', 'автомобильный бизнес', 'высший менеджмент', 'наука, образование', 'инсталляция и сервис', 'информационные технологии, интернет, телеком', 'транспорт, логистика', 'государственная служба, некоммерческие организации', 'банки, инвестиции, лизинг', 'добыча сырья', 'маркетинг, реклама, pr', 'строительство, недвижимость', 'спортивные клубы, фитнес, салоны красоты', 'медицина, фармацевтика', 'юристы', 'управление персоналом, тренинги', 'страхование', 'рабочий персонал', 'начало карьеры, студенты', 'искусство, развлечения, масс-медиа', 'административный персонал', 'производство', 'домашний персонал']\n"
     ]
    }
   ],
   "source": [
    "labels = []\n",
    "for i, row in dataset_hh.iterrows():\n",
    "    specs = row[\"profarea_names\"].lower()\n",
    "    specs = specs.split(\"', \") \n",
    "    for spec in specs: \n",
    "        spec = re.sub('[\\[\\'\\]]', '', spec)\n",
    "        labels.append(spec.strip())\n",
    "\n",
    "labels = list(set(labels))\n",
    "\n",
    "print(\"Labels number:\", len(labels))\n",
    "print(\"Labels:\", labels)"
   ]
  },
  {
   "cell_type": "code",
   "execution_count": 0,
   "metadata": {
    "colab": {},
    "colab_type": "code",
    "id": "jeCgu0RfcnwH"
   },
   "outputs": [],
   "source": [
    "def vectorize_text(text, vectorizer, max_len):\n",
    "    \"\"\"\n",
    "    :param str text: normalized text\n",
    "    :param Word2Vec vectorizer:\n",
    "    :param int max_len:\n",
    "    :return np.array text_vect: of shape like (1, max_len, 100)\n",
    "    \"\"\"\n",
    "    text_vect = []\n",
    "    words = text.split(\" \")\n",
    "    for word in words:\n",
    "        try:\n",
    "            word_vect = vectorizer.word_vec(word)\n",
    "            text_vect.append(word_vect)\n",
    "        except KeyError:\n",
    "            None\n",
    "      \n",
    "    np.array(text_vect)\n",
    "    text_vect = np.reshape(text_vect, (1, -1, 100))\n",
    "    text_vect = sequence.pad_sequences(text_vect, maxlen=max_len, dtype='float')\n",
    "            \n",
    "    return text_vect\n",
    "    "
   ]
  },
  {
   "cell_type": "code",
   "execution_count": 0,
   "metadata": {
    "colab": {},
    "colab_type": "code",
    "id": "K8-aKhDccnwK"
   },
   "outputs": [],
   "source": [
    "\n",
    "n_classes = len(labels)\n",
    "n_examples = len(dataset_hh)\n",
    "X = []\n",
    "Y = np.zeros((n_examples, n_classes))\n",
    "for i, row in dataset_hh.iterrows():\n",
    "    X.append([])\n",
    "    words = row[\"text_lemmas_tags\"].split(\" \")\n",
    "    for word in words:\n",
    "        try:\n",
    "            word_vec = vectorizer.word_vec(word)\n",
    "            X[i].append(word_vec)\n",
    "        except KeyError:\n",
    "            None\n",
    "     \n",
    "    \n",
    "    specs = row[\"profarea_names\"].lower() \n",
    "    specs = specs.split(\"', \") \n",
    "    for spec in specs: \n",
    "        spec = re.sub('[\\[\\'\\]]', '', spec)\n",
    "        pos = labels.index(spec.strip())\n",
    "        Y[i][pos] = 1\n",
    "        \n",
    "assert(len(X) == len(Y))\n"
   ]
  },
  {
   "cell_type": "code",
   "execution_count": 171,
   "metadata": {
    "colab": {
     "base_uri": "https://localhost:8080/",
     "height": 50
    },
    "colab_type": "code",
    "executionInfo": {
     "elapsed": 453,
     "status": "ok",
     "timestamp": 1544222027190,
     "user": {
      "displayName": "Виктор Оверко",
      "photoUrl": "https://lh6.googleusercontent.com/-_I9YbAF9z5o/AAAAAAAAAAI/AAAAAAAAABA/NUb59sonytE/s64/photo.jpg",
      "userId": "04713510988786792129"
     },
     "user_tz": -120
    },
    "id": "XMYokp3PcnwN",
    "outputId": "52989fba-f23a-4eb5-8eea-a1bff111bca3"
   },
   "outputs": [
    {
     "name": "stdout",
     "output_type": "stream",
     "text": [
      "Max len = 689\n",
      "Max len edited= 300\n"
     ]
    }
   ],
   "source": [
    "max_len = max([len(i) for i in X])\n",
    "print(\"Max len =\", max_len)\n",
    "max_len = 300\n",
    "print(\"Max len edited=\", max_len)"
   ]
  },
  {
   "cell_type": "code",
   "execution_count": 0,
   "metadata": {
    "colab": {},
    "colab_type": "code",
    "id": "Y3GFgIg1gU4y"
   },
   "outputs": [],
   "source": [
    "#X = sequence.pad_sequences(X, maxlen=max_len, dtype='float')"
   ]
  },
  {
   "cell_type": "code",
   "execution_count": 172,
   "metadata": {
    "colab": {
     "base_uri": "https://localhost:8080/",
     "height": 50
    },
    "colab_type": "code",
    "executionInfo": {
     "elapsed": 490,
     "status": "ok",
     "timestamp": 1544222067702,
     "user": {
      "displayName": "Виктор Оверко",
      "photoUrl": "https://lh6.googleusercontent.com/-_I9YbAF9z5o/AAAAAAAAAAI/AAAAAAAAABA/NUb59sonytE/s64/photo.jpg",
      "userId": "04713510988786792129"
     },
     "user_tz": -120
    },
    "id": "_ko-wTJscnwd",
    "outputId": "cb658f11-63ca-44e2-954b-06cf093edbf8"
   },
   "outputs": [
    {
     "name": "stdout",
     "output_type": "stream",
     "text": [
      "3588\n",
      "(3588, 28)\n"
     ]
    }
   ],
   "source": [
    "print(len(X))\n",
    "print(Y.shape)"
   ]
  },
  {
   "cell_type": "code",
   "execution_count": 0,
   "metadata": {
    "colab": {},
    "colab_type": "code",
    "id": "W2o6qYiFcnwz"
   },
   "outputs": [],
   "source": [
    "def get_classes(y_one_hot, labels, threshold=0.5):\n",
    "    \"\"\"\n",
    "    :param np.array y_one_hot: shape like (1, n_classes)\n",
    "    :param list of str labels:\n",
    "    :return list of str classes: \n",
    "    \"\"\"\n",
    "    classes = []\n",
    "    y_rounded = np.zeros(y_one_hot.shape)\n",
    "    y_rounded[y_one_hot > threshold] = 1\n",
    "    for i in range(len(labels)):\n",
    "        if y_rounded[0][i] == 1:\n",
    "            classes.append(labels[i])\n",
    "            \n",
    "    return classes\n",
    "        "
   ]
  },
  {
   "cell_type": "code",
   "execution_count": 174,
   "metadata": {
    "colab": {
     "base_uri": "https://localhost:8080/",
     "height": 67
    },
    "colab_type": "code",
    "executionInfo": {
     "elapsed": 449,
     "status": "ok",
     "timestamp": 1544222102843,
     "user": {
      "displayName": "Виктор Оверко",
      "photoUrl": "https://lh6.googleusercontent.com/-_I9YbAF9z5o/AAAAAAAAAAI/AAAAAAAAABA/NUb59sonytE/s64/photo.jpg",
      "userId": "04713510988786792129"
     },
     "user_tz": -120
    },
    "id": "7kVkcPi8xd0O",
    "outputId": "d4e8130e-7783-4711-d3f0-3e8646aeea3a"
   },
   "outputs": [
    {
     "name": "stdout",
     "output_type": "stream",
     "text": [
      "2511\n",
      "(2511, 28)\n",
      "(1077, 28)\n"
     ]
    }
   ],
   "source": [
    "X_train, X_test, Y_train, Y_test = train_test_split(X, Y, test_size=0.3, random_state=100)\n",
    "print(len(X_train))\n",
    "#print(X_test.shape)\n",
    "print(Y_train.shape)\n",
    "print(Y_test.shape)"
   ]
  },
  {
   "cell_type": "code",
   "execution_count": 175,
   "metadata": {
    "colab": {
     "base_uri": "https://localhost:8080/",
     "height": 521
    },
    "colab_type": "code",
    "executionInfo": {
     "elapsed": 454,
     "status": "ok",
     "timestamp": 1544222104604,
     "user": {
      "displayName": "Виктор Оверко",
      "photoUrl": "https://lh6.googleusercontent.com/-_I9YbAF9z5o/AAAAAAAAAAI/AAAAAAAAABA/NUb59sonytE/s64/photo.jpg",
      "userId": "04713510988786792129"
     },
     "user_tz": -120
    },
    "id": "zXJmpTrzcnw6",
    "outputId": "5641b063-c72a-4081-ba8a-ea33ee648756",
    "scrolled": true
   },
   "outputs": [
    {
     "name": "stdout",
     "output_type": "stream",
     "text": [
      " Species консультирование appears 226.0 times\n",
      " Species безопасность appears 28.0 times\n",
      " Species закупки appears 46.0 times\n",
      " Species бухгалтерия, управленческий учет, финансы предприятия appears 192.0 times\n",
      " Species туризм, гостиницы, рестораны appears 289.0 times\n",
      " Species продажи appears 1411.0 times\n",
      " Species автомобильный бизнес appears 127.0 times\n",
      " Species высший менеджмент appears 53.0 times\n",
      " Species наука, образование appears 59.0 times\n",
      " Species инсталляция и сервис appears 25.0 times\n",
      " Species информационные технологии, интернет, телеком appears 483.0 times\n",
      " Species транспорт, логистика appears 283.0 times\n",
      " Species государственная служба, некоммерческие организации appears 5.0 times\n",
      " Species банки, инвестиции, лизинг appears 288.0 times\n",
      " Species добыча сырья appears 6.0 times\n",
      " Species маркетинг, реклама, pr appears 299.0 times\n",
      " Species строительство, недвижимость appears 272.0 times\n",
      " Species спортивные клубы, фитнес, салоны красоты appears 78.0 times\n",
      " Species медицина, фармацевтика appears 133.0 times\n",
      " Species юристы appears 56.0 times\n",
      " Species управление персоналом, тренинги appears 95.0 times\n",
      " Species страхование appears 37.0 times\n",
      " Species рабочий персонал appears 154.0 times\n",
      " Species начало карьеры, студенты appears 926.0 times\n",
      " Species искусство, развлечения, масс-медиа appears 93.0 times\n",
      " Species административный персонал appears 547.0 times\n",
      " Species производство appears 207.0 times\n",
      " Species домашний персонал appears 35.0 times\n",
      "###\n",
      "As a mean 1.798494983277592 species appear on each recording (standard deviation 0.9362797704229546)\n"
     ]
    }
   ],
   "source": [
    "counts = []\n",
    "for i in range(len(labels)):\n",
    "    print(' Species {} appears {} times'.format(labels[i], np.sum(Y_train[:,i]) + np.sum(Y_test[:,i])))\n",
    "    counts.append(np.sum(Y_train[:,i]) + np.sum(Y_test[:,i]))\n",
    "print('###')\n",
    "all_y = np.concatenate([Y_train, Y_test])\n",
    "all_sum_y = np.sum(all_y, axis=1)\n",
    "print('As a mean {} species appear on each recording (standard deviation {})'.format(np.mean(all_sum_y), np.std(all_sum_y)))"
   ]
  },
  {
   "cell_type": "code",
   "execution_count": 0,
   "metadata": {
    "colab": {},
    "colab_type": "code",
    "id": "TXLpNbS5cnxS"
   },
   "outputs": [],
   "source": [
    "indexes = []\n",
    "labels_new = []\n",
    "counts_new = []\n",
    "\n",
    "for i in range(len(labels)):\n",
    "    if counts[i] > 50:\n",
    "        labels_new.append(labels[i])\n",
    "        counts_new.append(counts[i])\n",
    "        indexes.append(i)\n",
    "        \n",
    "Y = Y[:, indexes]\n",
    "labels = labels_new\n",
    "counts = counts_new"
   ]
  },
  {
   "cell_type": "code",
   "execution_count": 182,
   "metadata": {
    "colab": {
     "base_uri": "https://localhost:8080/",
     "height": 104
    },
    "colab_type": "code",
    "executionInfo": {
     "elapsed": 446,
     "status": "ok",
     "timestamp": 1544222163631,
     "user": {
      "displayName": "Виктор Оверко",
      "photoUrl": "https://lh6.googleusercontent.com/-_I9YbAF9z5o/AAAAAAAAAAI/AAAAAAAAABA/NUb59sonytE/s64/photo.jpg",
      "userId": "04713510988786792129"
     },
     "user_tz": -120
    },
    "id": "SkgH6rd6cnxW",
    "outputId": "7eb7dfa2-009e-4757-d546-2d81da5a53bf"
   },
   "outputs": [
    {
     "name": "stdout",
     "output_type": "stream",
     "text": [
      "21\n",
      "['консультирование', 'бухгалтерия, управленческий учет, финансы предприятия', 'туризм, гостиницы, рестораны', 'продажи', 'автомобильный бизнес', 'высший менеджмент', 'наука, образование', 'информационные технологии, интернет, телеком', 'транспорт, логистика', 'банки, инвестиции, лизинг', 'маркетинг, реклама, pr', 'строительство, недвижимость', 'спортивные клубы, фитнес, салоны красоты', 'медицина, фармацевтика', 'юристы', 'управление персоналом, тренинги', 'рабочий персонал', 'начало карьеры, студенты', 'искусство, развлечения, масс-медиа', 'административный персонал', 'производство']\n",
      "\n",
      "[226.0, 192.0, 289.0, 1411.0, 127.0, 53.0, 59.0, 483.0, 283.0, 288.0, 299.0, 272.0, 78.0, 133.0, 56.0, 95.0, 154.0, 926.0, 93.0, 547.0, 207.0]\n"
     ]
    }
   ],
   "source": [
    "print(len(labels))\n",
    "print(labels)\n",
    "print()\n",
    "print(counts)"
   ]
  },
  {
   "cell_type": "markdown",
   "metadata": {
    "colab_type": "text",
    "id": "FWFRvO1Df2d-"
   },
   "source": [
    "### Vectorize document from siquence of words to one vector"
   ]
  },
  {
   "cell_type": "code",
   "execution_count": 183,
   "metadata": {
    "colab": {
     "base_uri": "https://localhost:8080/",
     "height": 34
    },
    "colab_type": "code",
    "executionInfo": {
     "elapsed": 640,
     "status": "ok",
     "timestamp": 1544222186528,
     "user": {
      "displayName": "Виктор Оверко",
      "photoUrl": "https://lh6.googleusercontent.com/-_I9YbAF9z5o/AAAAAAAAAAI/AAAAAAAAABA/NUb59sonytE/s64/photo.jpg",
      "userId": "04713510988786792129"
     },
     "user_tz": -120
    },
    "id": "M6mgpTGKfzyF",
    "outputId": "24d2dd5d-9a68-40a0-d506-29361bd1db48"
   },
   "outputs": [
    {
     "name": "stdout",
     "output_type": "stream",
     "text": [
      "(3588, 300)\n"
     ]
    }
   ],
   "source": [
    "X = [np.mean(i, axis=0) for i in X]\n",
    "X = np.array(X)\n",
    "print(X.shape)"
   ]
  },
  {
   "cell_type": "markdown",
   "metadata": {
    "colab_type": "text",
    "id": "_ZBJIka6xEHL"
   },
   "source": [
    "### Data split"
   ]
  },
  {
   "cell_type": "code",
   "execution_count": 186,
   "metadata": {
    "colab": {
     "base_uri": "https://localhost:8080/",
     "height": 84
    },
    "colab_type": "code",
    "executionInfo": {
     "elapsed": 470,
     "status": "ok",
     "timestamp": 1544222273859,
     "user": {
      "displayName": "Виктор Оверко",
      "photoUrl": "https://lh6.googleusercontent.com/-_I9YbAF9z5o/AAAAAAAAAAI/AAAAAAAAABA/NUb59sonytE/s64/photo.jpg",
      "userId": "04713510988786792129"
     },
     "user_tz": -120
    },
    "id": "835esZ1FxImr",
    "outputId": "196a9d46-ec21-4160-d14c-7287c18df728"
   },
   "outputs": [
    {
     "name": "stdout",
     "output_type": "stream",
     "text": [
      "(2511, 300)\n",
      "(1077, 300)\n",
      "(2511, 21)\n",
      "(1077, 21)\n"
     ]
    }
   ],
   "source": [
    "X_train, X_test, Y_train, Y_test = train_test_split(X, Y, test_size=0.3, random_state=100)\n",
    "print(X_train.shape)\n",
    "print(X_test.shape)\n",
    "print(Y_train.shape)\n",
    "print(Y_test.shape)"
   ]
  },
  {
   "cell_type": "markdown",
   "metadata": {
    "colab_type": "text",
    "id": "X1MHfIbIxwxJ"
   },
   "source": [
    "### 1 vs All classification"
   ]
  },
  {
   "cell_type": "code",
   "execution_count": 0,
   "metadata": {
    "colab": {},
    "colab_type": "code",
    "id": "OlSeW_WL2idD"
   },
   "outputs": [],
   "source": [
    "classes_weights = []\n",
    "max_count = max(counts_new)\n",
    "for i in range(len(counts_new)):\n",
    "    weight = max_count / counts_new[i] \n",
    "    classes_weights.append(weight)\n",
    "\n",
    "classes_weights = [classes_weights]  \n",
    "print(classes_weights) \n",
    "print(len(classes_weights))"
   ]
  },
  {
   "cell_type": "markdown",
   "metadata": {},
   "source": [
    "### Training classifiers"
   ]
  },
  {
   "cell_type": "code",
   "execution_count": 266,
   "metadata": {
    "colab": {
     "base_uri": "https://localhost:8080/",
     "height": 457
    },
    "colab_type": "code",
    "executionInfo": {
     "elapsed": 136931,
     "status": "ok",
     "timestamp": 1544229843685,
     "user": {
      "displayName": "Виктор Оверко",
      "photoUrl": "https://lh6.googleusercontent.com/-_I9YbAF9z5o/AAAAAAAAAAI/AAAAAAAAABA/NUb59sonytE/s64/photo.jpg",
      "userId": "04713510988786792129"
     },
     "user_tz": -120
    },
    "id": "cVZUQQrsxwdu",
    "outputId": "a2e37040-cb34-4542-9c96-568fc3a5a737"
   },
   "outputs": [
    {
     "name": "stdout",
     "output_type": "stream",
     "text": [
      "Training for class  0 консультирование ... Weight for class = 15.966216216216216\n"
     ]
    },
    {
     "name": "stderr",
     "output_type": "stream",
     "text": [
      "/usr/local/lib/python3.6/dist-packages/sklearn/neural_network/multilayer_perceptron.py:564: ConvergenceWarning: Stochastic Optimizer: Maximum iterations (200) reached and the optimization hasn't converged yet.\n",
      "  % self.max_iter, ConvergenceWarning)\n"
     ]
    },
    {
     "name": "stdout",
     "output_type": "stream",
     "text": [
      "Training for class  1 бухгалтерия, управленческий учет, финансы предприятия ... Weight for class = 18.46511627906977\n",
      "Training for class  2 туризм, гостиницы, рестораны ... Weight for class = 10.90047393364929\n",
      "Training for class  3 продажи ... Weight for class = 1.53125\n",
      "Training for class  4 автомобильный бизнес ... Weight for class = 26.9\n",
      "Training for class  5 высший менеджмент ... Weight for class = 82.7\n",
      "Training for class  6 наука, образование ... Weight for class = 54.8\n",
      "Training for class  7 информационные технологии, интернет, телеком ... Weight for class = 6.1335227272727275\n",
      "Training for class  8 транспорт, логистика ... Weight for class = 11.876923076923077\n",
      "Training for class  9 банки, инвестиции, лизинг ... Weight for class = 10.733644859813085\n",
      "Training for class  10 маркетинг, реклама, pr ... Weight for class = 11.618090452261306\n",
      "Training for class  11 строительство, недвижимость ... Weight for class = 13.106741573033707\n",
      "Training for class  12 спортивные клубы, фитнес, салоны красоты ... Weight for class = 39.5\n",
      "Training for class  13 медицина, фармацевтика ... Weight for class = 26.593406593406595\n",
      "Training for class  14 юристы ... Weight for class = 60.24390243902439\n",
      "Training for class  15 управление персоналом, тренинги ... Weight for class = 38.857142857142854\n",
      "Training for class  16 рабочий персонал ... Weight for class = 21.221238938053098\n",
      "Training for class  17 начало карьеры, студенты ... Weight for class = 2.8277439024390243\n",
      "Training for class  18 искусство, развлечения, масс-медиа ... Weight for class = 38.857142857142854\n",
      "Training for class  19 административный персонал ... Weight for class = 5.678191489361702\n",
      "Training for class  20 производство ... Weight for class = 15.966216216216216\n",
      "CPU times: user 3min 23s, sys: 1min 5s, total: 4min 28s\n",
      "Wall time: 2min 16s\n"
     ]
    }
   ],
   "source": [
    "%%time\n",
    "classif_list = []\n",
    "train_score_list, test_score_list = [], []\n",
    "\n",
    "# Training\n",
    "for i in range(len(labels)):\n",
    "  num_pos = np.sum(Y_train[:, i])\n",
    "  num_neg = len(Y_train[:, i]) - num_pos\n",
    "  sample_weights = np.ones(Y_train[:, i].shape)\n",
    "  sample_weights[Y_train[:, i] == 1] = num_neg / num_pos\n",
    "  \n",
    "  y_train_for_label = Y_train[:, i]\n",
    "  #new_classifier = LogisticRegression()\n",
    "  #new_classifier = RandomForestClassifier(n_estimators=80, max_depth=5)\n",
    "  #new_classifier = GradientBoostingClassifier(n_estimators=80, max_depth=3)\n",
    "  #new_classifier = GaussianNB()\n",
    "  #new_classifier = SVC(C=0.5)\n",
    "  #new_classifier = MLPClassifier()\n",
    "  new_classifier.fit(X_train, y_train_for_label)\n",
    "  classif_list.append(new_classifier)\n",
    "  #sample_weight=sample_weights\n",
    "  print(\"Training for class \", i, labels[i], \"... Weight for class =\", num_neg / num_pos)"
   ]
  },
  {
   "cell_type": "markdown",
   "metadata": {},
   "source": [
    "### Testing"
   ]
  },
  {
   "cell_type": "code",
   "execution_count": 267,
   "metadata": {
    "colab": {
     "base_uri": "https://localhost:8080/",
     "height": 504
    },
    "colab_type": "code",
    "executionInfo": {
     "elapsed": 135005,
     "status": "ok",
     "timestamp": 1544229844536,
     "user": {
      "displayName": "Виктор Оверко",
      "photoUrl": "https://lh6.googleusercontent.com/-_I9YbAF9z5o/AAAAAAAAAAI/AAAAAAAAABA/NUb59sonytE/s64/photo.jpg",
      "userId": "04713510988786792129"
     },
     "user_tz": -120
    },
    "id": "PvmMP2y6ysuP",
    "outputId": "db7d6945-63ee-4ff8-ab01-ff562c01dcc1"
   },
   "outputs": [
    {
     "name": "stdout",
     "output_type": "stream",
     "text": [
      "Detecting консультирование with 0.0% accuracy (training 0.0%)\n",
      "Detecting бухгалтерия, управленческий учет, финансы предприятия with 39.0% accuracy (training 51.1%)\n",
      "Detecting туризм, гостиницы, рестораны with 68.10000000000001% accuracy (training 74.5%)\n",
      "Detecting продажи with 80.9% accuracy (training 84.3%)\n",
      "Detecting автомобильный бизнес with 32.7% accuracy (training 37.2%)\n",
      "Detecting высший менеджмент with 0.0% accuracy (training 0.0%)\n",
      "Detecting наука, образование with 0.0% accuracy (training 0.0%)\n"
     ]
    },
    {
     "name": "stderr",
     "output_type": "stream",
     "text": [
      "/usr/local/lib/python3.6/dist-packages/sklearn/metrics/classification.py:1135: UndefinedMetricWarning: F-score is ill-defined and being set to 0.0 due to no predicted samples.\n",
      "  'precision', 'predicted', average, warn_for)\n"
     ]
    },
    {
     "name": "stdout",
     "output_type": "stream",
     "text": [
      "Detecting информационные технологии, интернет, телеком with 70.19999999999999% accuracy (training 70.89999999999999%)\n",
      "Detecting транспорт, логистика with 71.6% accuracy (training 75.8%)\n",
      "Detecting банки, инвестиции, лизинг with 71.5% accuracy (training 73.4%)\n",
      "Detecting маркетинг, реклама, pr with 39.1% accuracy (training 50.2%)\n",
      "Detecting строительство, недвижимость with 59.4% accuracy (training 71.2%)\n",
      "Detecting спортивные клубы, фитнес, салоны красоты with 47.599999999999994% accuracy (training 65.2%)\n",
      "Detecting медицина, фармацевтика with 60.6% accuracy (training 70.7%)\n",
      "Detecting юристы with 52.2% accuracy (training 69.69999999999999%)\n",
      "Detecting управление персоналом, тренинги with 6.1% accuracy (training 31.6%)\n",
      "Detecting рабочий персонал with 42.9% accuracy (training 59.199999999999996%)\n",
      "Detecting начало карьеры, студенты with 23.1% accuracy (training 32.1%)\n",
      "Detecting искусство, развлечения, масс-медиа with 0.0% accuracy (training 0.0%)\n",
      "Detecting административный персонал with 55.7% accuracy (training 61.5%)\n",
      "Detecting производство with 50.5% accuracy (training 60.3%)\n",
      "\n",
      "Mean f1 score: testing 0.4148571428571429, training 0.49471428571428566\n",
      "###\n",
      "Global accuracy: testing 0.9440244064199496, training 0.952001668847547\n",
      "Overall 991 out of the 2511 training samples were well labeled\n",
      "Overall 362 out of the 1077 testing samples were well labeled\n"
     ]
    }
   ],
   "source": [
    "# Test & display results\n",
    "for i in range(len(labels)):\n",
    "    classif = classif_list[i]\n",
    "    #train_score = float('{0:.3f}'.format(classif.score(X_train, Y_train[:,i])))\n",
    "    #test_score = float('{0:.3f}'.format(classif.score(X_test, Y_test[:,i])))\n",
    "    predict = classif.predict(X_train)\n",
    "    train_score = float('{0:.3f}'.format(metrics.f1_score(Y_train[:,i], predict)))\n",
    "    predict = classif.predict(X_test)\n",
    "    test_score = float('{0:.3f}'.format(metrics.f1_score(Y_test[:,i], predict)))\n",
    "    \n",
    "    train_score_list.append(train_score)\n",
    "    test_score_list.append(test_score)\n",
    "    print('Detecting {} with {}% accuracy (training {}%)'.format(labels[i],\n",
    "                                                                 100*test_score,\n",
    "                                                                 100*train_score))\n",
    "\n",
    "print()\n",
    "print('Mean f1 score: testing {}, training {}'.format(np.mean(test_score_list),\n",
    "                                                     np.mean(train_score_list)))\n",
    "    \n",
    "predict_train = np.zeros_like(Y_train)\n",
    "predict_test = np.zeros_like(Y_test)\n",
    "for i in range(len(labels)):\n",
    "    classif = classif_list[i]\n",
    "    predict_train[:,i] = classif.predict(X_train)\n",
    "    predict_test[:,i] = classif.predict(X_test)\n",
    "acc_train = 1 - np.sum(np.abs(predict_train - Y_train))/(Y_train.shape[0]*Y_train.shape[1])\n",
    "acc_test = 1 - np.sum(np.abs(predict_test - Y_test))/(Y_test.shape[0]*Y_test.shape[1])\n",
    "print('###')\n",
    "print('Global accuracy: testing {}, training {}'.format(acc_test, acc_train))\n",
    "\n",
    "well_labeled = 0\n",
    "for i in range(len(Y_train)):\n",
    "    if np.sum(np.abs(Y_train[i,:] - predict_train[i,:])) == 0:\n",
    "        well_labeled +=1\n",
    "print('Overall {} out of the {} training samples were well labeled'.format(well_labeled,len(Y_train)))\n",
    "\n",
    "well_labeled = 0\n",
    "for i in range(len(Y_test)):\n",
    "    if np.sum(np.abs(Y_test[i,:] - predict_test[i,:])) == 0:\n",
    "        well_labeled +=1\n",
    "print('Overall {} out of the {} testing samples were well labeled'.format(well_labeled,len(Y_test)))"
   ]
  },
  {
   "cell_type": "markdown",
   "metadata": {
    "colab_type": "text",
    "id": "kuN6Gs2n6-YB"
   },
   "source": [
    "### Different models results\n",
    "\n",
    "Log reg - Mean f1 score: testing 0.3923809523809524, training 0.4028095238095238\n",
    "\n",
    "Random forest (default) - Mean f1 score: testing 0.40671428571428575, training 0.9166666666666665\n",
    "\n",
    "Random forest (n_est=30, max_depth=3) - Mean f1 score: testing 0.48714285714285716, training 0.6254285714285716\n",
    "\n",
    "Random forest (n_est=30, max_depth=5) - Mean f1 score: testing 0.5288095238095236, training 0.8464285714285713\n",
    "\n",
    "Random forest (n_est=30, max_depth=7) - Mean f1 score: testing 0.5265238095238095, training 0.9252857142857144\n",
    "\n",
    "Random forest (n_est=30, max_depth=9) - Mean f1 score: testing 0.4854285714285715, training 0.9510952380952379\n",
    "\n",
    "Random forest (n_est=40, max_depth=5) - Mean f1 score: testing 0.5297619047619048, training 0.8522380952380951\n",
    "\n",
    "Random forest (n_est=60, max_depth=5) - Mean f1 score: testing 0.5395714285714286, training 0.8646190476190474\n",
    "\n",
    "Random forest (n_est=80, max_depth=5) - Mean f1 score: testing 0.5463809523809524, training 0.8645714285714287\n",
    "\n",
    "Random forest (n_est=100, max_depth=5) - Mean f1 score: testing 0.5424761904761906, training 0.866095238095238 \n",
    "\n",
    "Random forest (n_est=120, max_depth=5) - Mean f1 score: testing 0.5412857142857144, training 0.8694761904761905\n",
    "\n",
    "Random forest (n_est=150, max_depth=5) - Mean f1 score: testing 0.5402380952380953, training 0.8681428571428571\n",
    "\n",
    "GradientBoostingClassifier(n_estimators=80, max_depth=5) - Mean f1 score: testing 0.5571904761904762, training 0.9752380952380952 / time = 3 min\n",
    "\n",
    "GradientBoostingClassifier(n_estimators=80, max_depth=4) - Mean f1 score: testing 0.5720476190476189, training 0.9719047619047619 \n",
    "\n",
    "GradientBoostingClassifier(n_estimators=80, max_depth=3)  - Mean f1 score: testing 0.5788095238095239, training 0.9293809523809523 / time = 2 min ------\n",
    "\n",
    "GradientBoostingClassifier(n_estimators=80, max_depth=2) - Mean f1 score: testing 0.5351904761904761, training 0.7915238095238095 / time 2 min\n",
    "\n",
    "GradientBoostingClassifier(n_estimators=30, max_depth=3) - Mean f1 score: testing 0.5093809523809524, training 0.7613333333333333  / time 2 min\n",
    "\n",
    "GradientBoostingClassifier(n_estimators=100, max_depth=3) - Mean f1 score: testing 0.5757142857142857, training 0.949190476190476\n",
    "\n",
    "GradientBoostingClassifier(n_estimators=50, max_depth=3) - Mean f1 score: testing 0.5532380952380953, training 0.8664761904761905\n",
    "\n",
    "GaussianNB() - Mean f1 score: testing 0.35142857142857153, training 0.36628571428571427\n"
   ]
  },
  {
   "cell_type": "markdown",
   "metadata": {
    "colab_type": "text",
    "id": "2l2lpPX4cnxf"
   },
   "source": [
    "### Train neural network\n"
   ]
  },
  {
   "cell_type": "code",
   "execution_count": 0,
   "metadata": {
    "colab": {},
    "colab_type": "code",
    "id": "41zTHc18cnxp",
    "outputId": "5559beda-00a8-4cbd-cb3a-6e22ea76a973"
   },
   "outputs": [
    {
     "data": {
      "text/plain": [
       "21"
      ]
     },
     "execution_count": 157,
     "metadata": {
      "tags": []
     },
     "output_type": "execute_result"
    }
   ],
   "source": [
    "len(labels_new)"
   ]
  },
  {
   "cell_type": "code",
   "execution_count": 0,
   "metadata": {
    "colab": {},
    "colab_type": "code",
    "id": "Dyr40SkFcnxt",
    "outputId": "0f61f832-15ef-4d81-f841-bf91587bc6fe",
    "scrolled": true
   },
   "outputs": [
    {
     "name": "stdout",
     "output_type": "stream",
     "text": [
      "_________________________________________________________________\n",
      "Layer (type)                 Output Shape              Param #   \n",
      "=================================================================\n",
      "conv1d_12 (Conv1D)           (None, 300, 32)           28832     \n",
      "_________________________________________________________________\n",
      "conv1d_13 (Conv1D)           (None, 300, 32)           3104      \n",
      "_________________________________________________________________\n",
      "max_pooling1d_9 (MaxPooling1 (None, 150, 32)           0         \n",
      "_________________________________________________________________\n",
      "bidirectional_10 (Bidirectio (None, 100)               33200     \n",
      "_________________________________________________________________\n",
      "dense_18 (Dense)             (None, 50)                5050      \n",
      "_________________________________________________________________\n",
      "dropout_3 (Dropout)          (None, 50)                0         \n",
      "_________________________________________________________________\n",
      "dense_19 (Dense)             (None, 21)                1071      \n",
      "=================================================================\n",
      "Total params: 71,257\n",
      "Trainable params: 71,257\n",
      "Non-trainable params: 0\n",
      "_________________________________________________________________\n"
     ]
    }
   ],
   "source": [
    "model = Sequential()\n",
    "\n",
    "model.add(Conv1D(filters=32, kernel_size=3, padding= 'same',\n",
    "                 activation=\"relu\", input_shape=(max_len, 300)))\n",
    "model.add(Conv1D(filters=32, kernel_size=3, padding= 'same',\n",
    "                 activation=\"relu\"))\n",
    "model.add(MaxPooling1D(pool_size=2))\n",
    "\n",
    "#model.add(LSTM(10))\n",
    "model.add(Bidirectional(layer=LSTM(50, dropout=0.3, recurrent_dropout=0.3),\n",
    "                        input_shape=(max_len, 300)))\n",
    "model.add(Dense(50, activation=\"relu\", kernel_regularizer=l2(0.1)))\n",
    "model.add(Dropout(0.5))\n",
    "model.add(Dense(len(labels_new), activation=\"sigmoid\", kernel_regularizer=l2(0.1)))\n",
    "\n",
    "model.compile(loss=\"binary_crossentropy\",\n",
    "              optimizer=\"adam\",\n",
    "              metrics=[\"accuracy\"],\n",
    "              loss_weights=classes_weights)\n",
    "\n",
    "model.summary()"
   ]
  },
  {
   "cell_type": "code",
   "execution_count": 0,
   "metadata": {
    "colab": {},
    "colab_type": "code",
    "id": "GEA4dpiZcnyx",
    "outputId": "6877e303-d9c9-4b0b-a6b1-52868f381c97"
   },
   "outputs": [
    {
     "name": "stdout",
     "output_type": "stream",
     "text": [
      "Train on 2483 samples, validate on 439 samples\n",
      "Epoch 1/3\n",
      "2483/2483 [==============================] - 51s 21ms/step - loss: 12.7243 - acc: 0.7800 - val_loss: 8.6945 - val_acc: 0.9165\n",
      "Epoch 2/3\n",
      "2483/2483 [==============================] - 32s 13ms/step - loss: 7.9821 - acc: 0.8856 - val_loss: 6.1225 - val_acc: 0.9165\n",
      "Epoch 3/3\n",
      "2483/2483 [==============================] - 64s 26ms/step - loss: 5.8040 - acc: 0.9028 - val_loss: 4.6906 - val_acc: 0.9165\n",
      "Wall time: 2min 30s\n"
     ]
    },
    {
     "data": {
      "text/plain": [
       "<keras.callbacks.History at 0x1c88608ee80>"
      ]
     },
     "execution_count": 164,
     "metadata": {
      "tags": []
     },
     "output_type": "execute_result"
    }
   ],
   "source": [
    "%%time\n",
    "model.fit(X_train, Y_train,\n",
    "          batch_size=64, \n",
    "          epochs=3,\n",
    "          validation_split=0.15,\n",
    "          verbose=1)\n"
   ]
  },
  {
   "cell_type": "code",
   "execution_count": 0,
   "metadata": {
    "colab": {},
    "colab_type": "code",
    "id": "X_cfFi-lcnzh"
   },
   "outputs": [],
   "source": [
    "predict = model.predict(X_train)"
   ]
  },
  {
   "cell_type": "code",
   "execution_count": 0,
   "metadata": {
    "colab": {},
    "colab_type": "code",
    "id": "3gVO3XW8cnzn"
   },
   "outputs": [],
   "source": [
    "np.round(predict[:10])"
   ]
  },
  {
   "cell_type": "code",
   "execution_count": 0,
   "metadata": {
    "colab": {},
    "colab_type": "code",
    "id": "pBTVHVl2cnz7",
    "outputId": "9dde04ca-4acc-4343-f951-7081f638e24b"
   },
   "outputs": [
    {
     "data": {
      "text/plain": [
       "0.0"
      ]
     },
     "execution_count": 173,
     "metadata": {
      "tags": []
     },
     "output_type": "execute_result"
    }
   ],
   "source": [
    "np.sum(np.round(predict))"
   ]
  },
  {
   "cell_type": "markdown",
   "metadata": {},
   "source": [
    "#### Not enough data for NN"
   ]
  },
  {
   "cell_type": "code",
   "execution_count": 0,
   "metadata": {
    "colab": {},
    "colab_type": "code",
    "id": "2-Jhb0Pgcn0Q"
   },
   "outputs": [],
   "source": [
    "%%time\n",
    "scores = model.evaluate(X_test, Y_test, batch_size=64)\n",
    "print(\"Test accuracy: %.2f%%\" % (scores[1] * 100))"
   ]
  }
 ],
 "metadata": {
  "accelerator": "GPU",
  "colab": {
   "collapsed_sections": [],
   "name": "classification3_to_binary_tasks.ipynb",
   "provenance": [],
   "version": "0.3.2"
  },
  "kernelspec": {
   "display_name": "Python 3",
   "language": "python",
   "name": "python3"
  },
  "language_info": {
   "codemirror_mode": {
    "name": "ipython",
    "version": 3
   },
   "file_extension": ".py",
   "mimetype": "text/x-python",
   "name": "python",
   "nbconvert_exporter": "python",
   "pygments_lexer": "ipython3",
   "version": "3.6.8"
  }
 },
 "nbformat": 4,
 "nbformat_minor": 1
}
